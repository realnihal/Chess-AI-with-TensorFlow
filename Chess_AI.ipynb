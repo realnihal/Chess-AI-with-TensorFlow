{
  "nbformat": 4,
  "nbformat_minor": 0,
  "metadata": {
    "accelerator": "GPU",
    "colab": {
      "name": "Chess_AI.ipynb",
      "private_outputs": true,
      "provenance": [],
      "collapsed_sections": [],
      "include_colab_link": true
    },
    "interpreter": {
      "hash": "aee8b7b246df8f9039afb4144a1f6fd8d2ca17a180786b69acc140d282b71a49"
    },
    "kernelspec": {
      "display_name": "Python 3 (ipykernel)",
      "language": "python",
      "name": "python3"
    },
    "language_info": {
      "codemirror_mode": {
        "name": "ipython",
        "version": 3
      },
      "file_extension": ".py",
      "mimetype": "text/x-python",
      "name": "python",
      "nbconvert_exporter": "python",
      "pygments_lexer": "ipython3",
      "version": "3.8.0"
    }
  },
  "cells": [
    {
      "cell_type": "markdown",
      "metadata": {
        "id": "view-in-github",
        "colab_type": "text"
      },
      "source": [
        "<a href=\"https://colab.research.google.com/github/realnihal/Chess-AI-with-TensorFlow/blob/main/Chess_AI.ipynb\" target=\"_parent\"><img src=\"https://colab.research.google.com/assets/colab-badge.svg\" alt=\"Open In Colab\"/></a>"
      ]
    },
    {
      "cell_type": "code",
      "metadata": {
        "id": "lxBTsfHEtkib"
      },
      "source": [
        "from google.colab import drive\n",
        "drive.mount('/content/drive')"
      ],
      "execution_count": null,
      "outputs": []
    },
    {
      "cell_type": "code",
      "metadata": {
        "id": "0K8D_dSAL-UZ"
      },
      "source": [
        "!pip install chess"
      ],
      "execution_count": null,
      "outputs": []
    },
    {
      "cell_type": "code",
      "metadata": {
        "id": "BnaNW4SiLoXl"
      },
      "source": [
        "!nvidia-smi"
      ],
      "execution_count": null,
      "outputs": []
    },
    {
      "cell_type": "code",
      "metadata": {
        "id": "QauvWk2MkddY"
      },
      "source": [
        "import chess\n",
        "import chess.engine\n",
        "import random\n",
        "import numpy\n",
        "\n",
        "\n",
        "# this function will create our x (board)\n",
        "def random_board(max_depth=200):\n",
        "  board = chess.Board()\n",
        "  depth = random.randrange(0, max_depth)\n",
        "\n",
        "  for _ in range(depth):\n",
        "    all_moves = list(board.legal_moves)\n",
        "    random_move = random.choice(all_moves)\n",
        "    board.push(random_move)\n",
        "    if board.is_game_over():\n",
        "      break\n",
        "\n",
        "  return board\n",
        "\n",
        "\n",
        "# this function will create our f(x) (score)\n",
        "def stockfish(board, depth):\n",
        "  with chess.engine.SimpleEngine.popen_uci('/content/drive/MyDrive/stockfish/13/bin/') as sf:\n",
        "    result = sf.analyse(board, chess.engine.Limit(depth=depth))\n",
        "    score = result['score'].white().score()\n",
        "    return score"
      ],
      "execution_count": null,
      "outputs": []
    },
    {
      "cell_type": "code",
      "metadata": {
        "id": "ULOEWyyfYqtq"
      },
      "source": [
        "board = random_board()\n",
        "board"
      ],
      "execution_count": null,
      "outputs": []
    },
    {
      "cell_type": "code",
      "metadata": {
        "id": "QtZy4cR8ZMhq"
      },
      "source": [
        "print(stockfish(board, 10))"
      ],
      "execution_count": null,
      "outputs": []
    },
    {
      "cell_type": "markdown",
      "metadata": {
        "id": "6Fgr5NTWqgsA"
      },
      "source": [
        "**The AI will learn how to give a accurate prediction of *f(x)* when we present a *x* never seen before.**\n",
        "\n",
        "*board -> score*"
      ]
    },
    {
      "cell_type": "markdown",
      "metadata": {
        "id": "cMgBRL1Kdc0B"
      },
      "source": [
        "# Creating the dataset"
      ]
    },
    {
      "cell_type": "markdown",
      "metadata": {
        "id": "d4Sg-yu0sS4t"
      },
      "source": [
        "Now we need to convert the board representation to something meaningful.\n",
        "\n",
        "A 3d matrix of sizes **14 x 8 x 8**\n",
        "\n"
      ]
    },
    {
      "cell_type": "code",
      "metadata": {
        "id": "Rdo64dA7dhBE"
      },
      "source": [
        "squares_index = {\n",
        "  'a': 0,\n",
        "  'b': 1,\n",
        "  'c': 2,\n",
        "  'd': 3,\n",
        "  'e': 4,\n",
        "  'f': 5,\n",
        "  'g': 6,\n",
        "  'h': 7\n",
        "}\n",
        "\n",
        "\n",
        "# example: h3 -> 17\n",
        "def square_to_index(square):\n",
        "  letter = chess.square_name(square)\n",
        "  return 8 - int(letter[1]), squares_index[letter[0]]\n",
        "\n",
        "\n",
        "def split_dims(board):\n",
        "  # this is the 3d matrix\n",
        "  board3d = numpy.zeros((14, 8, 8), dtype=numpy.int8)\n",
        "\n",
        "  # here we add the pieces's view on the matrix\n",
        "  for piece in chess.PIECE_TYPES:\n",
        "    for square in board.pieces(piece, chess.WHITE):\n",
        "      idx = numpy.unravel_index(square, (8, 8))\n",
        "      board3d[piece - 1][7 - idx[0]][idx[1]] = 1\n",
        "    for square in board.pieces(piece, chess.BLACK):\n",
        "      idx = numpy.unravel_index(square, (8, 8))\n",
        "      board3d[piece + 5][7 - idx[0]][idx[1]] = 1\n",
        "\n",
        "  # add attacks and valid moves too\n",
        "  # so the network knows what is being attacked\n",
        "  aux = board.turn\n",
        "  board.turn = chess.WHITE\n",
        "  for move in board.legal_moves:\n",
        "      i, j = square_to_index(move.to_square)\n",
        "      board3d[12][i][j] = 1\n",
        "  board.turn = chess.BLACK\n",
        "  for move in board.legal_moves:\n",
        "      i, j = square_to_index(move.to_square)\n",
        "      board3d[13][i][j] = 1\n",
        "  board.turn = aux\n",
        "\n",
        "  return board3d"
      ],
      "execution_count": null,
      "outputs": []
    },
    {
      "cell_type": "code",
      "metadata": {
        "id": "gHONl_M1hG9i"
      },
      "source": [
        "split_dims(board)"
      ],
      "execution_count": null,
      "outputs": []
    },
    {
      "cell_type": "markdown",
      "metadata": {
        "id": "OwpzPcsXfuVw"
      },
      "source": [
        "Now, all we have to do is call **random_board()** to create random boards, **stockfish()** to get a score for how good each board is for white.\n",
        "\n",
        "Then we convert each board to a 3d matrix using **split_dims()**, now creating the dataset is easy!"
      ]
    },
    {
      "cell_type": "markdown",
      "metadata": {
        "id": "ukmA7z-dlB6m"
      },
      "source": [
        "# TensorFlow!"
      ]
    },
    {
      "cell_type": "code",
      "metadata": {
        "id": "6S7QNZqwmBOP"
      },
      "source": [
        "import tensorflow.keras.models as models\n",
        "import tensorflow.keras.layers as layers\n",
        "import tensorflow.keras.utils as utils\n",
        "import tensorflow.keras.optimizers as optimizers\n",
        "\n",
        "\n",
        "def build_model(conv_size, conv_depth):\n",
        "  board3d = layers.Input(shape=(14, 8, 8))\n",
        "\n",
        "  # adding the convolutional layers\n",
        "  x = board3d\n",
        "  for _ in range(conv_depth):\n",
        "    x = layers.Conv2D(filters=conv_size, kernel_size=3, padding='same', activation='relu')(x)\n",
        "  x = layers.Flatten()(x)\n",
        "  x = layers.Dense(64, 'relu')(x)\n",
        "  x = layers.Dense(1, 'sigmoid')(x)\n",
        "\n",
        "  return models.Model(inputs=board3d, outputs=x)"
      ],
      "execution_count": null,
      "outputs": []
    },
    {
      "cell_type": "markdown",
      "metadata": {
        "id": "6S1RCn3xn4Bu"
      },
      "source": [
        "Skip connections (residual network) will likely improve the model for deeper connections. If you want to test the residual model, check the code below."
      ]
    },
    {
      "cell_type": "code",
      "metadata": {
        "id": "tAFSOFc8pJf8"
      },
      "source": [
        "def build_model_residual(conv_size, conv_depth):\n",
        "  board3d = layers.Input(shape=(14, 8, 8))\n",
        "\n",
        "  # adding the convolutional layers\n",
        "  x = layers.Conv2D(filters=conv_size, kernel_size=3, padding='same')(board3d)\n",
        "  for _ in range(conv_depth):\n",
        "    previous = x\n",
        "    x = layers.Conv2D(filters=conv_size, kernel_size=3, padding='same')(x)\n",
        "    x = layers.BatchNormalization()(x)\n",
        "    x = layers.Activation('relu')(x)\n",
        "    x = layers.Conv2D(filters=conv_size, kernel_size=3, padding='same')(x)\n",
        "    x = layers.BatchNormalization()(x)\n",
        "    x = layers.Add()([x, previous])\n",
        "    x = layers.Activation('relu')(x)\n",
        "  x = layers.Flatten()(x)\n",
        "  x = layers.Dense(1, 'sigmoid')(x)\n",
        "\n",
        "  return models.Model(inputs=board3d, outputs=x)"
      ],
      "execution_count": null,
      "outputs": []
    },
    {
      "cell_type": "code",
      "metadata": {
        "id": "3IjDiS3Bmo5m"
      },
      "source": [
        "model = build_model_residual(32, 4)"
      ],
      "execution_count": null,
      "outputs": []
    },
    {
      "cell_type": "markdown",
      "metadata": {
        "id": "ck79-w2ZxwVB"
      },
      "source": [
        "# It's training time!"
      ]
    },
    {
      "cell_type": "code",
      "metadata": {
        "cellView": "both",
        "id": "CkOXxmoVyHdc"
      },
      "source": [
        "import tensorflow.keras.callbacks as callbacks\n",
        "\n",
        "\n",
        "def get_dataset():\n",
        "\tcontainer = numpy.load('/content/drive/MyDrive/stockfish/dataset.npz')\n",
        "\tb, v = container['b'], container['v']\n",
        "\tv = numpy.asarray(v / abs(v).max() / 2 + 0.5, dtype=numpy.float32) # normalization (0 - 1)\n",
        "\treturn b, v\n",
        "\n",
        "\n",
        "x_train, y_train = get_dataset()\n",
        "x_train.transpose()\n",
        "print(x_train.shape)\n",
        "print(y_train.shape)"
      ],
      "execution_count": null,
      "outputs": []
    },
    {
      "cell_type": "code",
      "metadata": {
        "id": "RyOYq9mv2ppC"
      },
      "source": [
        "from tensorflow.keras.callbacks import ModelCheckpoint\n",
        "model.compile(optimizer=optimizers.Adam(5e-4), loss='mean_squared_error')\n",
        "model.summary()\n",
        "checkpoint_filepath = '/tmp/checkpoint/'\n",
        "model_checkpointing_callback = ModelCheckpoint(\n",
        "    filepath = checkpoint_filepath,\n",
        "    save_best_only= True,\n",
        ")\n",
        "history = model.fit(x_train, y_train,\n",
        "          batch_size=2048,\n",
        "          epochs=1000,\n",
        "          verbose=1,\n",
        "          validation_split=0.1,\n",
        "          callbacks=[callbacks.ReduceLROnPlateau(monitor='loss', patience=10),\n",
        "                     callbacks.EarlyStopping(monitor='loss', patience=15, min_delta=1e-4),model_checkpointing_callback])\n",
        "\n",
        "model.save('model.h5')"
      ],
      "execution_count": null,
      "outputs": []
    },
    {
      "cell_type": "code",
      "metadata": {
        "id": "RqYiyC8o0nsY"
      },
      "source": [
        "from google.colab import files\n",
        "files.download('model.h5')"
      ],
      "execution_count": null,
      "outputs": []
    },
    {
      "cell_type": "markdown",
      "metadata": {
        "id": "UndQQeUurAKp"
      },
      "source": [
        "# Playing with the AI"
      ]
    },
    {
      "cell_type": "code",
      "metadata": {
        "id": "e4CfjcGorHzg"
      },
      "source": [
        "# used for the minimax algorithm\n",
        "def minimax_eval(board):\n",
        "  board3d = split_dims(board)\n",
        "  board3d = numpy.expand_dims(board3d, 0)\n",
        "  return model.predict(board3d)[0][0]\n",
        "\n",
        "\n",
        "def minimax(board, depth, alpha, beta, maximizing_player):\n",
        "  if depth == 0 or board.is_game_over():\n",
        "    return minimax_eval(board)\n",
        "  \n",
        "  if maximizing_player:\n",
        "    max_eval = -numpy.inf\n",
        "    for move in board.legal_moves:\n",
        "      board.push(move)\n",
        "      eval = minimax(board, depth - 1, alpha, beta, False)\n",
        "      board.pop()\n",
        "      max_eval = max(max_eval, eval)\n",
        "      alpha = max(alpha, eval)\n",
        "      if beta <= alpha:\n",
        "        break\n",
        "    return max_eval\n",
        "  else:\n",
        "    min_eval = numpy.inf\n",
        "    for move in board.legal_moves:\n",
        "      board.push(move)\n",
        "      eval = minimax(board, depth - 1, alpha, beta, True)\n",
        "      board.pop()\n",
        "      min_eval = min(min_eval, eval)\n",
        "      beta = min(beta, eval)\n",
        "      if beta <= alpha:\n",
        "        break\n",
        "    return min_eval\n",
        "\n",
        "\n",
        "# this is the actual function that gets the move from the neural network\n",
        "def get_ai_move(board, depth):\n",
        "  max_move = None\n",
        "  max_eval = -numpy.inf\n",
        "\n",
        "  for move in board.legal_moves:\n",
        "    board.push(move)\n",
        "    eval = minimax(board, depth - 1, -numpy.inf, numpy.inf, False)\n",
        "    board.pop()\n",
        "    if eval > max_eval:\n",
        "      max_eval = eval\n",
        "      max_move = move\n",
        "  \n",
        "  return max_move"
      ],
      "execution_count": null,
      "outputs": []
    },
    {
      "cell_type": "code",
      "metadata": {
        "id": "C63ND0E_uffp"
      },
      "source": [
        "board = chess.Board()\n",
        "\n",
        "with chess.engine.SimpleEngine.popen_uci('/content/stockfish') as engine:\n",
        "  while True:\n",
        "    move = get_ai_move(board, 1)\n",
        "    board.push(move)\n",
        "    print(f'\\n{board}')\n",
        "    if board.is_game_over():\n",
        "      break\n",
        "\n",
        "    move = engine.analyse(board, chess.engine.Limit(time=1), info=chess.engine.INFO_PV)['pv'][0]\n",
        "    board.push(move)\n",
        "    print(f'\\n{board}')\n",
        "    if board.is_game_over():\n",
        "      break"
      ],
      "execution_count": null,
      "outputs": []
    },
    {
      "cell_type": "code",
      "metadata": {
        "id": "0mHOtv5gSdfd"
      },
      "source": [
        ""
      ],
      "execution_count": null,
      "outputs": []
    }
  ]
}